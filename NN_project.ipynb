{
 "cells": [
  {
   "cell_type": "markdown",
   "id": "5374596d",
   "metadata": {},
   "source": [
    "# Market Segmentation with Neural Networks"
   ]
  },
  {
   "cell_type": "markdown",
   "id": "f664fe0d",
   "metadata": {},
   "source": [
    "#### Table of content\n",
    "* Introduction\n",
    "* Exploratory Data Analysis \n",
    "* Data preprocessing \n",
    "* Build model by Neural Networks by tensorflow\n",
    "* Conclusions\n",
    "\n",
    "\n",
    "\n",
    "######  Introduction : Dataset : E-Commerce Dataset  actual transactions from UK retailer "
   ]
  },
  {
   "cell_type": "code",
   "execution_count": 1,
   "id": "81785639",
   "metadata": {},
   "outputs": [],
   "source": [
    "# import packages\n",
    "import pandas as pd\n",
    "import numpy as np \n",
    "import matplotlib.pyplot as plt\n",
    "import seaborn as sns\n",
    "import warnings\n",
    "warnings.filterwarnings('ignore')\n",
    "import datetime as dt\n",
    "import tensorflow as tf\n",
    "from tensorflow.keras import layers\n",
    "from tensorflow.keras.models import Sequential"
   ]
  },
  {
   "cell_type": "code",
   "execution_count": 2,
   "id": "91f7b8f7",
   "metadata": {},
   "outputs": [
    {
     "data": {
      "text/html": [
       "<div>\n",
       "<style scoped>\n",
       "    .dataframe tbody tr th:only-of-type {\n",
       "        vertical-align: middle;\n",
       "    }\n",
       "\n",
       "    .dataframe tbody tr th {\n",
       "        vertical-align: top;\n",
       "    }\n",
       "\n",
       "    .dataframe thead th {\n",
       "        text-align: right;\n",
       "    }\n",
       "</style>\n",
       "<table border=\"1\" class=\"dataframe\">\n",
       "  <thead>\n",
       "    <tr style=\"text-align: right;\">\n",
       "      <th></th>\n",
       "      <th>InvoiceNo</th>\n",
       "      <th>StockCode</th>\n",
       "      <th>Description</th>\n",
       "      <th>Quantity</th>\n",
       "      <th>InvoiceDate</th>\n",
       "      <th>UnitPrice</th>\n",
       "      <th>CustomerID</th>\n",
       "      <th>Country</th>\n",
       "    </tr>\n",
       "  </thead>\n",
       "  <tbody>\n",
       "    <tr>\n",
       "      <th>0</th>\n",
       "      <td>536365</td>\n",
       "      <td>85123A</td>\n",
       "      <td>WHITE HANGING HEART T-LIGHT HOLDER</td>\n",
       "      <td>6</td>\n",
       "      <td>12/1/2010 8:26</td>\n",
       "      <td>2.55</td>\n",
       "      <td>17850.0</td>\n",
       "      <td>United Kingdom</td>\n",
       "    </tr>\n",
       "    <tr>\n",
       "      <th>1</th>\n",
       "      <td>536365</td>\n",
       "      <td>71053</td>\n",
       "      <td>WHITE METAL LANTERN</td>\n",
       "      <td>6</td>\n",
       "      <td>12/1/2010 8:26</td>\n",
       "      <td>3.39</td>\n",
       "      <td>17850.0</td>\n",
       "      <td>United Kingdom</td>\n",
       "    </tr>\n",
       "    <tr>\n",
       "      <th>2</th>\n",
       "      <td>536365</td>\n",
       "      <td>84406B</td>\n",
       "      <td>CREAM CUPID HEARTS COAT HANGER</td>\n",
       "      <td>8</td>\n",
       "      <td>12/1/2010 8:26</td>\n",
       "      <td>2.75</td>\n",
       "      <td>17850.0</td>\n",
       "      <td>United Kingdom</td>\n",
       "    </tr>\n",
       "    <tr>\n",
       "      <th>3</th>\n",
       "      <td>536365</td>\n",
       "      <td>84029G</td>\n",
       "      <td>KNITTED UNION FLAG HOT WATER BOTTLE</td>\n",
       "      <td>6</td>\n",
       "      <td>12/1/2010 8:26</td>\n",
       "      <td>3.39</td>\n",
       "      <td>17850.0</td>\n",
       "      <td>United Kingdom</td>\n",
       "    </tr>\n",
       "    <tr>\n",
       "      <th>4</th>\n",
       "      <td>536365</td>\n",
       "      <td>84029E</td>\n",
       "      <td>RED WOOLLY HOTTIE WHITE HEART.</td>\n",
       "      <td>6</td>\n",
       "      <td>12/1/2010 8:26</td>\n",
       "      <td>3.39</td>\n",
       "      <td>17850.0</td>\n",
       "      <td>United Kingdom</td>\n",
       "    </tr>\n",
       "  </tbody>\n",
       "</table>\n",
       "</div>"
      ],
      "text/plain": [
       "  InvoiceNo StockCode                          Description  Quantity  \\\n",
       "0    536365    85123A   WHITE HANGING HEART T-LIGHT HOLDER         6   \n",
       "1    536365     71053                  WHITE METAL LANTERN         6   \n",
       "2    536365    84406B       CREAM CUPID HEARTS COAT HANGER         8   \n",
       "3    536365    84029G  KNITTED UNION FLAG HOT WATER BOTTLE         6   \n",
       "4    536365    84029E       RED WOOLLY HOTTIE WHITE HEART.         6   \n",
       "\n",
       "      InvoiceDate  UnitPrice  CustomerID         Country  \n",
       "0  12/1/2010 8:26       2.55     17850.0  United Kingdom  \n",
       "1  12/1/2010 8:26       3.39     17850.0  United Kingdom  \n",
       "2  12/1/2010 8:26       2.75     17850.0  United Kingdom  \n",
       "3  12/1/2010 8:26       3.39     17850.0  United Kingdom  \n",
       "4  12/1/2010 8:26       3.39     17850.0  United Kingdom  "
      ]
     },
     "execution_count": 2,
     "metadata": {},
     "output_type": "execute_result"
    }
   ],
   "source": [
    "e_comer=pd.read_csv('data.csv',encoding = 'unicode_escape')\n",
    "e_comer.head()"
   ]
  },
  {
   "cell_type": "code",
   "execution_count": 3,
   "id": "f01d6e43",
   "metadata": {},
   "outputs": [],
   "source": [
    "df=e_comer.copy()"
   ]
  },
  {
   "cell_type": "markdown",
   "id": "9e053dd9",
   "metadata": {},
   "source": [
    "## EDA"
   ]
  },
  {
   "cell_type": "code",
   "execution_count": 4,
   "id": "a7eb0cc1",
   "metadata": {},
   "outputs": [
    {
     "data": {
      "text/plain": [
       "(541909, 8)"
      ]
     },
     "execution_count": 4,
     "metadata": {},
     "output_type": "execute_result"
    }
   ],
   "source": [
    "#the shape of dataset\n",
    "df.shape"
   ]
  },
  {
   "cell_type": "code",
   "execution_count": 5,
   "id": "8dc6fb17",
   "metadata": {},
   "outputs": [
    {
     "name": "stdout",
     "output_type": "stream",
     "text": [
      "<class 'pandas.core.frame.DataFrame'>\n",
      "RangeIndex: 541909 entries, 0 to 541908\n",
      "Data columns (total 8 columns):\n",
      " #   Column       Non-Null Count   Dtype  \n",
      "---  ------       --------------   -----  \n",
      " 0   InvoiceNo    541909 non-null  object \n",
      " 1   StockCode    541909 non-null  object \n",
      " 2   Description  540455 non-null  object \n",
      " 3   Quantity     541909 non-null  int64  \n",
      " 4   InvoiceDate  541909 non-null  object \n",
      " 5   UnitPrice    541909 non-null  float64\n",
      " 6   CustomerID   406829 non-null  float64\n",
      " 7   Country      541909 non-null  object \n",
      "dtypes: float64(2), int64(1), object(5)\n",
      "memory usage: 33.1+ MB\n"
     ]
    }
   ],
   "source": [
    "df.info()"
   ]
  },
  {
   "cell_type": "code",
   "execution_count": 6,
   "id": "219187dc",
   "metadata": {},
   "outputs": [
    {
     "data": {
      "text/plain": [
       "Index(['InvoiceNo', 'StockCode', 'Description', 'Quantity', 'InvoiceDate',\n",
       "       'UnitPrice', 'CustomerID', 'Country'],\n",
       "      dtype='object')"
      ]
     },
     "execution_count": 6,
     "metadata": {},
     "output_type": "execute_result"
    }
   ],
   "source": [
    "# the names of columns\n",
    "df.columns"
   ]
  },
  {
   "cell_type": "markdown",
   "id": "4d100702",
   "metadata": {},
   "source": [
    "### check data types of columns in dataset"
   ]
  },
  {
   "cell_type": "code",
   "execution_count": 7,
   "id": "2981d029",
   "metadata": {},
   "outputs": [
    {
     "data": {
      "text/plain": [
       "InvoiceNo       object\n",
       "StockCode       object\n",
       "Description     object\n",
       "Quantity         int64\n",
       "InvoiceDate     object\n",
       "UnitPrice      float64\n",
       "CustomerID     float64\n",
       "Country         object\n",
       "dtype: object"
      ]
     },
     "execution_count": 7,
     "metadata": {},
     "output_type": "execute_result"
    }
   ],
   "source": [
    "df.dtypes"
   ]
  },
  {
   "cell_type": "markdown",
   "id": "a0b20ac4",
   "metadata": {},
   "source": [
    "### check missing values in columns "
   ]
  },
  {
   "cell_type": "code",
   "execution_count": 8,
   "id": "6ab0bee2",
   "metadata": {},
   "outputs": [
    {
     "data": {
      "text/plain": [
       "InvoiceNo           0\n",
       "StockCode           0\n",
       "Description      1454\n",
       "Quantity            0\n",
       "InvoiceDate         0\n",
       "UnitPrice           0\n",
       "CustomerID     135080\n",
       "Country             0\n",
       "dtype: int64"
      ]
     },
     "execution_count": 8,
     "metadata": {},
     "output_type": "execute_result"
    }
   ],
   "source": [
    "df.isna().sum()"
   ]
  },
  {
   "cell_type": "markdown",
   "id": "b0f9c908",
   "metadata": {},
   "source": [
    "#### Insight : there are missing values in Description , CustomerID"
   ]
  },
  {
   "cell_type": "markdown",
   "id": "9fab4168",
   "metadata": {},
   "source": [
    "### Delete missing values from columns"
   ]
  },
  {
   "cell_type": "code",
   "execution_count": 9,
   "id": "874fee58",
   "metadata": {},
   "outputs": [],
   "source": [
    "df.dropna(inplace=True)"
   ]
  },
  {
   "cell_type": "code",
   "execution_count": 10,
   "id": "25e3e1dd",
   "metadata": {},
   "outputs": [
    {
     "data": {
      "text/plain": [
       "InvoiceNo      0\n",
       "StockCode      0\n",
       "Description    0\n",
       "Quantity       0\n",
       "InvoiceDate    0\n",
       "UnitPrice      0\n",
       "CustomerID     0\n",
       "Country        0\n",
       "dtype: int64"
      ]
     },
     "execution_count": 10,
     "metadata": {},
     "output_type": "execute_result"
    }
   ],
   "source": [
    "df.isna().sum()"
   ]
  },
  {
   "cell_type": "markdown",
   "id": "e1490152",
   "metadata": {},
   "source": [
    "### check duplicated values "
   ]
  },
  {
   "cell_type": "code",
   "execution_count": 11,
   "id": "82afab86",
   "metadata": {},
   "outputs": [
    {
     "data": {
      "text/plain": [
       "5225"
      ]
     },
     "execution_count": 11,
     "metadata": {},
     "output_type": "execute_result"
    }
   ],
   "source": [
    "df.duplicated().sum()"
   ]
  },
  {
   "cell_type": "markdown",
   "id": "1decc2f3",
   "metadata": {},
   "source": [
    "### Delete  duplicated values"
   ]
  },
  {
   "cell_type": "code",
   "execution_count": 12,
   "id": "86dd6b79",
   "metadata": {},
   "outputs": [],
   "source": [
    "df.drop_duplicates(inplace=True)"
   ]
  },
  {
   "cell_type": "code",
   "execution_count": 13,
   "id": "2f7e09d9",
   "metadata": {},
   "outputs": [
    {
     "data": {
      "text/plain": [
       "0"
      ]
     },
     "execution_count": 13,
     "metadata": {},
     "output_type": "execute_result"
    }
   ],
   "source": [
    "df.duplicated().sum()"
   ]
  },
  {
   "cell_type": "markdown",
   "id": "b7b69c40",
   "metadata": {},
   "source": [
    "##### Insight : data without missing values and duplicated values and prepare for analysis"
   ]
  },
  {
   "cell_type": "markdown",
   "id": "86febb86",
   "metadata": {},
   "source": [
    "### convert  InvoiceDate  column to datetime "
   ]
  },
  {
   "cell_type": "code",
   "execution_count": 14,
   "id": "da9f4bf2",
   "metadata": {},
   "outputs": [],
   "source": [
    "df['InvoiceDate']=pd.to_datetime(df['InvoiceDate'])"
   ]
  },
  {
   "cell_type": "markdown",
   "id": "068ed14a",
   "metadata": {},
   "source": [
    "### How many orders that canceled?"
   ]
  },
  {
   "cell_type": "code",
   "execution_count": 15,
   "id": "10e01b62",
   "metadata": {},
   "outputs": [
    {
     "data": {
      "text/plain": [
       "401604"
      ]
     },
     "execution_count": 15,
     "metadata": {},
     "output_type": "execute_result"
    }
   ],
   "source": [
    "df['InvoiceNo'].str.contains('C').count()"
   ]
  },
  {
   "cell_type": "markdown",
   "id": "198f2d5e",
   "metadata": {},
   "source": [
    "### Delete Canceled orders and show data without it"
   ]
  },
  {
   "cell_type": "code",
   "execution_count": 16,
   "id": "dff456d5",
   "metadata": {},
   "outputs": [
    {
     "data": {
      "text/html": [
       "<div>\n",
       "<style scoped>\n",
       "    .dataframe tbody tr th:only-of-type {\n",
       "        vertical-align: middle;\n",
       "    }\n",
       "\n",
       "    .dataframe tbody tr th {\n",
       "        vertical-align: top;\n",
       "    }\n",
       "\n",
       "    .dataframe thead th {\n",
       "        text-align: right;\n",
       "    }\n",
       "</style>\n",
       "<table border=\"1\" class=\"dataframe\">\n",
       "  <thead>\n",
       "    <tr style=\"text-align: right;\">\n",
       "      <th></th>\n",
       "      <th>InvoiceNo</th>\n",
       "      <th>StockCode</th>\n",
       "      <th>Description</th>\n",
       "      <th>Quantity</th>\n",
       "      <th>InvoiceDate</th>\n",
       "      <th>UnitPrice</th>\n",
       "      <th>CustomerID</th>\n",
       "      <th>Country</th>\n",
       "    </tr>\n",
       "  </thead>\n",
       "  <tbody>\n",
       "    <tr>\n",
       "      <th>0</th>\n",
       "      <td>536365</td>\n",
       "      <td>85123A</td>\n",
       "      <td>WHITE HANGING HEART T-LIGHT HOLDER</td>\n",
       "      <td>6</td>\n",
       "      <td>2010-12-01 08:26:00</td>\n",
       "      <td>2.55</td>\n",
       "      <td>17850.0</td>\n",
       "      <td>United Kingdom</td>\n",
       "    </tr>\n",
       "    <tr>\n",
       "      <th>1</th>\n",
       "      <td>536365</td>\n",
       "      <td>71053</td>\n",
       "      <td>WHITE METAL LANTERN</td>\n",
       "      <td>6</td>\n",
       "      <td>2010-12-01 08:26:00</td>\n",
       "      <td>3.39</td>\n",
       "      <td>17850.0</td>\n",
       "      <td>United Kingdom</td>\n",
       "    </tr>\n",
       "    <tr>\n",
       "      <th>2</th>\n",
       "      <td>536365</td>\n",
       "      <td>84406B</td>\n",
       "      <td>CREAM CUPID HEARTS COAT HANGER</td>\n",
       "      <td>8</td>\n",
       "      <td>2010-12-01 08:26:00</td>\n",
       "      <td>2.75</td>\n",
       "      <td>17850.0</td>\n",
       "      <td>United Kingdom</td>\n",
       "    </tr>\n",
       "    <tr>\n",
       "      <th>3</th>\n",
       "      <td>536365</td>\n",
       "      <td>84029G</td>\n",
       "      <td>KNITTED UNION FLAG HOT WATER BOTTLE</td>\n",
       "      <td>6</td>\n",
       "      <td>2010-12-01 08:26:00</td>\n",
       "      <td>3.39</td>\n",
       "      <td>17850.0</td>\n",
       "      <td>United Kingdom</td>\n",
       "    </tr>\n",
       "    <tr>\n",
       "      <th>4</th>\n",
       "      <td>536365</td>\n",
       "      <td>84029E</td>\n",
       "      <td>RED WOOLLY HOTTIE WHITE HEART.</td>\n",
       "      <td>6</td>\n",
       "      <td>2010-12-01 08:26:00</td>\n",
       "      <td>3.39</td>\n",
       "      <td>17850.0</td>\n",
       "      <td>United Kingdom</td>\n",
       "    </tr>\n",
       "    <tr>\n",
       "      <th>...</th>\n",
       "      <td>...</td>\n",
       "      <td>...</td>\n",
       "      <td>...</td>\n",
       "      <td>...</td>\n",
       "      <td>...</td>\n",
       "      <td>...</td>\n",
       "      <td>...</td>\n",
       "      <td>...</td>\n",
       "    </tr>\n",
       "    <tr>\n",
       "      <th>541904</th>\n",
       "      <td>581587</td>\n",
       "      <td>22613</td>\n",
       "      <td>PACK OF 20 SPACEBOY NAPKINS</td>\n",
       "      <td>12</td>\n",
       "      <td>2011-12-09 12:50:00</td>\n",
       "      <td>0.85</td>\n",
       "      <td>12680.0</td>\n",
       "      <td>France</td>\n",
       "    </tr>\n",
       "    <tr>\n",
       "      <th>541905</th>\n",
       "      <td>581587</td>\n",
       "      <td>22899</td>\n",
       "      <td>CHILDREN'S APRON DOLLY GIRL</td>\n",
       "      <td>6</td>\n",
       "      <td>2011-12-09 12:50:00</td>\n",
       "      <td>2.10</td>\n",
       "      <td>12680.0</td>\n",
       "      <td>France</td>\n",
       "    </tr>\n",
       "    <tr>\n",
       "      <th>541906</th>\n",
       "      <td>581587</td>\n",
       "      <td>23254</td>\n",
       "      <td>CHILDRENS CUTLERY DOLLY GIRL</td>\n",
       "      <td>4</td>\n",
       "      <td>2011-12-09 12:50:00</td>\n",
       "      <td>4.15</td>\n",
       "      <td>12680.0</td>\n",
       "      <td>France</td>\n",
       "    </tr>\n",
       "    <tr>\n",
       "      <th>541907</th>\n",
       "      <td>581587</td>\n",
       "      <td>23255</td>\n",
       "      <td>CHILDRENS CUTLERY CIRCUS PARADE</td>\n",
       "      <td>4</td>\n",
       "      <td>2011-12-09 12:50:00</td>\n",
       "      <td>4.15</td>\n",
       "      <td>12680.0</td>\n",
       "      <td>France</td>\n",
       "    </tr>\n",
       "    <tr>\n",
       "      <th>541908</th>\n",
       "      <td>581587</td>\n",
       "      <td>22138</td>\n",
       "      <td>BAKING SET 9 PIECE RETROSPOT</td>\n",
       "      <td>3</td>\n",
       "      <td>2011-12-09 12:50:00</td>\n",
       "      <td>4.95</td>\n",
       "      <td>12680.0</td>\n",
       "      <td>France</td>\n",
       "    </tr>\n",
       "  </tbody>\n",
       "</table>\n",
       "<p>392732 rows × 8 columns</p>\n",
       "</div>"
      ],
      "text/plain": [
       "       InvoiceNo StockCode                          Description  Quantity  \\\n",
       "0         536365    85123A   WHITE HANGING HEART T-LIGHT HOLDER         6   \n",
       "1         536365     71053                  WHITE METAL LANTERN         6   \n",
       "2         536365    84406B       CREAM CUPID HEARTS COAT HANGER         8   \n",
       "3         536365    84029G  KNITTED UNION FLAG HOT WATER BOTTLE         6   \n",
       "4         536365    84029E       RED WOOLLY HOTTIE WHITE HEART.         6   \n",
       "...          ...       ...                                  ...       ...   \n",
       "541904    581587     22613          PACK OF 20 SPACEBOY NAPKINS        12   \n",
       "541905    581587     22899         CHILDREN'S APRON DOLLY GIRL          6   \n",
       "541906    581587     23254        CHILDRENS CUTLERY DOLLY GIRL          4   \n",
       "541907    581587     23255      CHILDRENS CUTLERY CIRCUS PARADE         4   \n",
       "541908    581587     22138        BAKING SET 9 PIECE RETROSPOT          3   \n",
       "\n",
       "               InvoiceDate  UnitPrice  CustomerID         Country  \n",
       "0      2010-12-01 08:26:00       2.55     17850.0  United Kingdom  \n",
       "1      2010-12-01 08:26:00       3.39     17850.0  United Kingdom  \n",
       "2      2010-12-01 08:26:00       2.75     17850.0  United Kingdom  \n",
       "3      2010-12-01 08:26:00       3.39     17850.0  United Kingdom  \n",
       "4      2010-12-01 08:26:00       3.39     17850.0  United Kingdom  \n",
       "...                    ...        ...         ...             ...  \n",
       "541904 2011-12-09 12:50:00       0.85     12680.0          France  \n",
       "541905 2011-12-09 12:50:00       2.10     12680.0          France  \n",
       "541906 2011-12-09 12:50:00       4.15     12680.0          France  \n",
       "541907 2011-12-09 12:50:00       4.15     12680.0          France  \n",
       "541908 2011-12-09 12:50:00       4.95     12680.0          France  \n",
       "\n",
       "[392732 rows x 8 columns]"
      ]
     },
     "execution_count": 16,
     "metadata": {},
     "output_type": "execute_result"
    }
   ],
   "source": [
    "df[~ df['InvoiceNo'].str.contains('C',na=False)]"
   ]
  },
  {
   "cell_type": "markdown",
   "id": "e0ee45e0",
   "metadata": {},
   "source": [
    "#### choose the data has Quantity greater than zero"
   ]
  },
  {
   "cell_type": "code",
   "execution_count": 17,
   "id": "3d684a78",
   "metadata": {},
   "outputs": [],
   "source": [
    "df=df[df['Quantity']> 0 ]"
   ]
  },
  {
   "cell_type": "markdown",
   "id": "c8930b76",
   "metadata": {},
   "source": [
    "#### choose the data has UnitPrice greater than zero"
   ]
  },
  {
   "cell_type": "code",
   "execution_count": 18,
   "id": "bae6d1c6",
   "metadata": {},
   "outputs": [],
   "source": [
    "df=df[df['UnitPrice'] >0]"
   ]
  },
  {
   "cell_type": "code",
   "execution_count": 19,
   "id": "07ca7ebc",
   "metadata": {},
   "outputs": [
    {
     "data": {
      "text/html": [
       "<div>\n",
       "<style scoped>\n",
       "    .dataframe tbody tr th:only-of-type {\n",
       "        vertical-align: middle;\n",
       "    }\n",
       "\n",
       "    .dataframe tbody tr th {\n",
       "        vertical-align: top;\n",
       "    }\n",
       "\n",
       "    .dataframe thead th {\n",
       "        text-align: right;\n",
       "    }\n",
       "</style>\n",
       "<table border=\"1\" class=\"dataframe\">\n",
       "  <thead>\n",
       "    <tr style=\"text-align: right;\">\n",
       "      <th></th>\n",
       "      <th>InvoiceNo</th>\n",
       "      <th>StockCode</th>\n",
       "      <th>Description</th>\n",
       "      <th>Quantity</th>\n",
       "      <th>InvoiceDate</th>\n",
       "      <th>UnitPrice</th>\n",
       "      <th>CustomerID</th>\n",
       "      <th>Country</th>\n",
       "    </tr>\n",
       "  </thead>\n",
       "  <tbody>\n",
       "    <tr>\n",
       "      <th>0</th>\n",
       "      <td>536365</td>\n",
       "      <td>85123A</td>\n",
       "      <td>WHITE HANGING HEART T-LIGHT HOLDER</td>\n",
       "      <td>6</td>\n",
       "      <td>2010-12-01 08:26:00</td>\n",
       "      <td>2.55</td>\n",
       "      <td>17850.0</td>\n",
       "      <td>United Kingdom</td>\n",
       "    </tr>\n",
       "    <tr>\n",
       "      <th>1</th>\n",
       "      <td>536365</td>\n",
       "      <td>71053</td>\n",
       "      <td>WHITE METAL LANTERN</td>\n",
       "      <td>6</td>\n",
       "      <td>2010-12-01 08:26:00</td>\n",
       "      <td>3.39</td>\n",
       "      <td>17850.0</td>\n",
       "      <td>United Kingdom</td>\n",
       "    </tr>\n",
       "    <tr>\n",
       "      <th>2</th>\n",
       "      <td>536365</td>\n",
       "      <td>84406B</td>\n",
       "      <td>CREAM CUPID HEARTS COAT HANGER</td>\n",
       "      <td>8</td>\n",
       "      <td>2010-12-01 08:26:00</td>\n",
       "      <td>2.75</td>\n",
       "      <td>17850.0</td>\n",
       "      <td>United Kingdom</td>\n",
       "    </tr>\n",
       "    <tr>\n",
       "      <th>3</th>\n",
       "      <td>536365</td>\n",
       "      <td>84029G</td>\n",
       "      <td>KNITTED UNION FLAG HOT WATER BOTTLE</td>\n",
       "      <td>6</td>\n",
       "      <td>2010-12-01 08:26:00</td>\n",
       "      <td>3.39</td>\n",
       "      <td>17850.0</td>\n",
       "      <td>United Kingdom</td>\n",
       "    </tr>\n",
       "    <tr>\n",
       "      <th>4</th>\n",
       "      <td>536365</td>\n",
       "      <td>84029E</td>\n",
       "      <td>RED WOOLLY HOTTIE WHITE HEART.</td>\n",
       "      <td>6</td>\n",
       "      <td>2010-12-01 08:26:00</td>\n",
       "      <td>3.39</td>\n",
       "      <td>17850.0</td>\n",
       "      <td>United Kingdom</td>\n",
       "    </tr>\n",
       "    <tr>\n",
       "      <th>...</th>\n",
       "      <td>...</td>\n",
       "      <td>...</td>\n",
       "      <td>...</td>\n",
       "      <td>...</td>\n",
       "      <td>...</td>\n",
       "      <td>...</td>\n",
       "      <td>...</td>\n",
       "      <td>...</td>\n",
       "    </tr>\n",
       "    <tr>\n",
       "      <th>541904</th>\n",
       "      <td>581587</td>\n",
       "      <td>22613</td>\n",
       "      <td>PACK OF 20 SPACEBOY NAPKINS</td>\n",
       "      <td>12</td>\n",
       "      <td>2011-12-09 12:50:00</td>\n",
       "      <td>0.85</td>\n",
       "      <td>12680.0</td>\n",
       "      <td>France</td>\n",
       "    </tr>\n",
       "    <tr>\n",
       "      <th>541905</th>\n",
       "      <td>581587</td>\n",
       "      <td>22899</td>\n",
       "      <td>CHILDREN'S APRON DOLLY GIRL</td>\n",
       "      <td>6</td>\n",
       "      <td>2011-12-09 12:50:00</td>\n",
       "      <td>2.10</td>\n",
       "      <td>12680.0</td>\n",
       "      <td>France</td>\n",
       "    </tr>\n",
       "    <tr>\n",
       "      <th>541906</th>\n",
       "      <td>581587</td>\n",
       "      <td>23254</td>\n",
       "      <td>CHILDRENS CUTLERY DOLLY GIRL</td>\n",
       "      <td>4</td>\n",
       "      <td>2011-12-09 12:50:00</td>\n",
       "      <td>4.15</td>\n",
       "      <td>12680.0</td>\n",
       "      <td>France</td>\n",
       "    </tr>\n",
       "    <tr>\n",
       "      <th>541907</th>\n",
       "      <td>581587</td>\n",
       "      <td>23255</td>\n",
       "      <td>CHILDRENS CUTLERY CIRCUS PARADE</td>\n",
       "      <td>4</td>\n",
       "      <td>2011-12-09 12:50:00</td>\n",
       "      <td>4.15</td>\n",
       "      <td>12680.0</td>\n",
       "      <td>France</td>\n",
       "    </tr>\n",
       "    <tr>\n",
       "      <th>541908</th>\n",
       "      <td>581587</td>\n",
       "      <td>22138</td>\n",
       "      <td>BAKING SET 9 PIECE RETROSPOT</td>\n",
       "      <td>3</td>\n",
       "      <td>2011-12-09 12:50:00</td>\n",
       "      <td>4.95</td>\n",
       "      <td>12680.0</td>\n",
       "      <td>France</td>\n",
       "    </tr>\n",
       "  </tbody>\n",
       "</table>\n",
       "<p>392692 rows × 8 columns</p>\n",
       "</div>"
      ],
      "text/plain": [
       "       InvoiceNo StockCode                          Description  Quantity  \\\n",
       "0         536365    85123A   WHITE HANGING HEART T-LIGHT HOLDER         6   \n",
       "1         536365     71053                  WHITE METAL LANTERN         6   \n",
       "2         536365    84406B       CREAM CUPID HEARTS COAT HANGER         8   \n",
       "3         536365    84029G  KNITTED UNION FLAG HOT WATER BOTTLE         6   \n",
       "4         536365    84029E       RED WOOLLY HOTTIE WHITE HEART.         6   \n",
       "...          ...       ...                                  ...       ...   \n",
       "541904    581587     22613          PACK OF 20 SPACEBOY NAPKINS        12   \n",
       "541905    581587     22899         CHILDREN'S APRON DOLLY GIRL          6   \n",
       "541906    581587     23254        CHILDRENS CUTLERY DOLLY GIRL          4   \n",
       "541907    581587     23255      CHILDRENS CUTLERY CIRCUS PARADE         4   \n",
       "541908    581587     22138        BAKING SET 9 PIECE RETROSPOT          3   \n",
       "\n",
       "               InvoiceDate  UnitPrice  CustomerID         Country  \n",
       "0      2010-12-01 08:26:00       2.55     17850.0  United Kingdom  \n",
       "1      2010-12-01 08:26:00       3.39     17850.0  United Kingdom  \n",
       "2      2010-12-01 08:26:00       2.75     17850.0  United Kingdom  \n",
       "3      2010-12-01 08:26:00       3.39     17850.0  United Kingdom  \n",
       "4      2010-12-01 08:26:00       3.39     17850.0  United Kingdom  \n",
       "...                    ...        ...         ...             ...  \n",
       "541904 2011-12-09 12:50:00       0.85     12680.0          France  \n",
       "541905 2011-12-09 12:50:00       2.10     12680.0          France  \n",
       "541906 2011-12-09 12:50:00       4.15     12680.0          France  \n",
       "541907 2011-12-09 12:50:00       4.15     12680.0          France  \n",
       "541908 2011-12-09 12:50:00       4.95     12680.0          France  \n",
       "\n",
       "[392692 rows x 8 columns]"
      ]
     },
     "execution_count": 19,
     "metadata": {},
     "output_type": "execute_result"
    }
   ],
   "source": [
    "df"
   ]
  },
  {
   "cell_type": "code",
   "execution_count": 20,
   "id": "f81e1316",
   "metadata": {},
   "outputs": [
    {
     "data": {
      "text/html": [
       "<div>\n",
       "<style scoped>\n",
       "    .dataframe tbody tr th:only-of-type {\n",
       "        vertical-align: middle;\n",
       "    }\n",
       "\n",
       "    .dataframe tbody tr th {\n",
       "        vertical-align: top;\n",
       "    }\n",
       "\n",
       "    .dataframe thead th {\n",
       "        text-align: right;\n",
       "    }\n",
       "</style>\n",
       "<table border=\"1\" class=\"dataframe\">\n",
       "  <thead>\n",
       "    <tr style=\"text-align: right;\">\n",
       "      <th></th>\n",
       "      <th>count</th>\n",
       "      <th>mean</th>\n",
       "      <th>std</th>\n",
       "      <th>min</th>\n",
       "      <th>25%</th>\n",
       "      <th>50%</th>\n",
       "      <th>75%</th>\n",
       "      <th>max</th>\n",
       "    </tr>\n",
       "  </thead>\n",
       "  <tbody>\n",
       "    <tr>\n",
       "      <th>Quantity</th>\n",
       "      <td>392692.0</td>\n",
       "      <td>13.119702</td>\n",
       "      <td>180.492832</td>\n",
       "      <td>1.000</td>\n",
       "      <td>2.00</td>\n",
       "      <td>6.00</td>\n",
       "      <td>12.00</td>\n",
       "      <td>80995.00</td>\n",
       "    </tr>\n",
       "    <tr>\n",
       "      <th>UnitPrice</th>\n",
       "      <td>392692.0</td>\n",
       "      <td>3.125914</td>\n",
       "      <td>22.241836</td>\n",
       "      <td>0.001</td>\n",
       "      <td>1.25</td>\n",
       "      <td>1.95</td>\n",
       "      <td>3.75</td>\n",
       "      <td>8142.75</td>\n",
       "    </tr>\n",
       "    <tr>\n",
       "      <th>CustomerID</th>\n",
       "      <td>392692.0</td>\n",
       "      <td>15287.843865</td>\n",
       "      <td>1713.539549</td>\n",
       "      <td>12346.000</td>\n",
       "      <td>13955.00</td>\n",
       "      <td>15150.00</td>\n",
       "      <td>16791.00</td>\n",
       "      <td>18287.00</td>\n",
       "    </tr>\n",
       "  </tbody>\n",
       "</table>\n",
       "</div>"
      ],
      "text/plain": [
       "               count          mean          std        min       25%  \\\n",
       "Quantity    392692.0     13.119702   180.492832      1.000      2.00   \n",
       "UnitPrice   392692.0      3.125914    22.241836      0.001      1.25   \n",
       "CustomerID  392692.0  15287.843865  1713.539549  12346.000  13955.00   \n",
       "\n",
       "                 50%       75%       max  \n",
       "Quantity        6.00     12.00  80995.00  \n",
       "UnitPrice       1.95      3.75   8142.75  \n",
       "CustomerID  15150.00  16791.00  18287.00  "
      ]
     },
     "execution_count": 20,
     "metadata": {},
     "output_type": "execute_result"
    }
   ],
   "source": [
    "df.describe().T"
   ]
  },
  {
   "cell_type": "code",
   "execution_count": 21,
   "id": "15fd1b30",
   "metadata": {},
   "outputs": [
    {
     "data": {
      "text/plain": [
       "WHITE HANGING HEART T-LIGHT HOLDER    2016\n",
       "REGENCY CAKESTAND 3 TIER              1713\n",
       "JUMBO BAG RED RETROSPOT               1615\n",
       "ASSORTED COLOUR BIRD ORNAMENT         1395\n",
       "PARTY BUNTING                         1389\n",
       "LUNCH BAG RED RETROSPOT               1303\n",
       "SET OF 3 CAKE TINS PANTRY DESIGN      1152\n",
       "POSTAGE                               1099\n",
       "LUNCH BAG  BLACK SKULL.               1078\n",
       "PACK OF 72 RETROSPOT CAKE CASES       1050\n",
       "SPOTTY BUNTING                        1014\n",
       "PAPER CHAIN KIT 50'S CHRISTMAS        1003\n",
       "LUNCH BAG SPACEBOY DESIGN              993\n",
       "HEART OF WICKER SMALL                  979\n",
       "LUNCH BAG CARS BLUE                    977\n",
       "NATURAL SLATE HEART CHALKBOARD         972\n",
       "LUNCH BAG PINK POLKADOT                941\n",
       "LUNCH BAG SUKI DESIGN                  915\n",
       "REX CASH+CARRY JUMBO SHOPPER           897\n",
       "ALARM CLOCK BAKELIKE RED               886\n",
       "Name: Description, dtype: int64"
      ]
     },
     "execution_count": 21,
     "metadata": {},
     "output_type": "execute_result"
    }
   ],
   "source": [
    "df['Description'].value_counts().head(20)"
   ]
  },
  {
   "cell_type": "code",
   "execution_count": 22,
   "id": "919bc857",
   "metadata": {},
   "outputs": [
    {
     "data": {
      "text/html": [
       "<div>\n",
       "<style scoped>\n",
       "    .dataframe tbody tr th:only-of-type {\n",
       "        vertical-align: middle;\n",
       "    }\n",
       "\n",
       "    .dataframe tbody tr th {\n",
       "        vertical-align: top;\n",
       "    }\n",
       "\n",
       "    .dataframe thead th {\n",
       "        text-align: right;\n",
       "    }\n",
       "</style>\n",
       "<table border=\"1\" class=\"dataframe\">\n",
       "  <thead>\n",
       "    <tr style=\"text-align: right;\">\n",
       "      <th></th>\n",
       "      <th>Quantity</th>\n",
       "    </tr>\n",
       "    <tr>\n",
       "      <th>Description</th>\n",
       "      <th></th>\n",
       "    </tr>\n",
       "  </thead>\n",
       "  <tbody>\n",
       "    <tr>\n",
       "      <th>4 PURPLE FLOCK DINNER CANDLES</th>\n",
       "      <td>138</td>\n",
       "    </tr>\n",
       "    <tr>\n",
       "      <th>50'S CHRISTMAS GIFT BAG LARGE</th>\n",
       "      <td>1885</td>\n",
       "    </tr>\n",
       "    <tr>\n",
       "      <th>DOLLY GIRL BEAKER</th>\n",
       "      <td>2394</td>\n",
       "    </tr>\n",
       "    <tr>\n",
       "      <th>I LOVE LONDON MINI BACKPACK</th>\n",
       "      <td>359</td>\n",
       "    </tr>\n",
       "    <tr>\n",
       "      <th>I LOVE LONDON MINI RUCKSACK</th>\n",
       "      <td>1</td>\n",
       "    </tr>\n",
       "    <tr>\n",
       "      <th>...</th>\n",
       "      <td>...</td>\n",
       "    </tr>\n",
       "    <tr>\n",
       "      <th>ZINC T-LIGHT HOLDER STARS SMALL</th>\n",
       "      <td>4894</td>\n",
       "    </tr>\n",
       "    <tr>\n",
       "      <th>ZINC TOP  2 DOOR WOODEN SHELF</th>\n",
       "      <td>10</td>\n",
       "    </tr>\n",
       "    <tr>\n",
       "      <th>ZINC WILLIE WINKIE  CANDLE STICK</th>\n",
       "      <td>2606</td>\n",
       "    </tr>\n",
       "    <tr>\n",
       "      <th>ZINC WIRE KITCHEN ORGANISER</th>\n",
       "      <td>25</td>\n",
       "    </tr>\n",
       "    <tr>\n",
       "      <th>ZINC WIRE SWEETHEART LETTER TRAY</th>\n",
       "      <td>80</td>\n",
       "    </tr>\n",
       "  </tbody>\n",
       "</table>\n",
       "<p>3877 rows × 1 columns</p>\n",
       "</div>"
      ],
      "text/plain": [
       "                                  Quantity\n",
       "Description                               \n",
       " 4 PURPLE FLOCK DINNER CANDLES         138\n",
       " 50'S CHRISTMAS GIFT BAG LARGE        1885\n",
       " DOLLY GIRL BEAKER                    2394\n",
       " I LOVE LONDON MINI BACKPACK           359\n",
       " I LOVE LONDON MINI RUCKSACK             1\n",
       "...                                    ...\n",
       "ZINC T-LIGHT HOLDER STARS SMALL       4894\n",
       "ZINC TOP  2 DOOR WOODEN SHELF           10\n",
       "ZINC WILLIE WINKIE  CANDLE STICK      2606\n",
       "ZINC WIRE KITCHEN ORGANISER             25\n",
       "ZINC WIRE SWEETHEART LETTER TRAY        80\n",
       "\n",
       "[3877 rows x 1 columns]"
      ]
     },
     "execution_count": 22,
     "metadata": {},
     "output_type": "execute_result"
    }
   ],
   "source": [
    "df.groupby('Description').agg({'Quantity':'sum'})"
   ]
  },
  {
   "cell_type": "markdown",
   "id": "2d5aba9d",
   "metadata": {},
   "source": [
    "### visualization "
   ]
  },
  {
   "cell_type": "markdown",
   "id": "a7b5fb20",
   "metadata": {},
   "source": [
    "### Q: what counts of Quantity based on UnitPrice"
   ]
  },
  {
   "cell_type": "code",
   "execution_count": 23,
   "id": "532012c0",
   "metadata": {},
   "outputs": [
    {
     "data": {
      "image/png": "[encoded data removed]",
      "text/plain": [
       "<Figure size 640x480 with 1 Axes>"
      ]
     },
     "metadata": {},
     "output_type": "display_data"
    }
   ],
   "source": [
    "plt.scatter(x=df['Quantity'],y=df['UnitPrice'])\n",
    "plt.xlabel('Quantity')\n",
    "plt.ylabel('UnitPrice')\n",
    "plt.show()"
   ]
  },
  {
   "cell_type": "markdown",
   "id": "0f113546",
   "metadata": {},
   "source": [
    "#### Insight : there are the most Quantity  in range 1,10000 of UnitPrice "
   ]
  },
  {
   "cell_type": "markdown",
   "id": "761a5505",
   "metadata": {},
   "source": [
    "### Q : what value counts of each country "
   ]
  },
  {
   "cell_type": "code",
   "execution_count": 24,
   "id": "57860259",
   "metadata": {},
   "outputs": [
    {
     "data": {
      "text/html": [
       "<div>\n",
       "<style scoped>\n",
       "    .dataframe tbody tr th:only-of-type {\n",
       "        vertical-align: middle;\n",
       "    }\n",
       "\n",
       "    .dataframe tbody tr th {\n",
       "        vertical-align: top;\n",
       "    }\n",
       "\n",
       "    .dataframe thead th {\n",
       "        text-align: right;\n",
       "    }\n",
       "</style>\n",
       "<table border=\"1\" class=\"dataframe\">\n",
       "  <thead>\n",
       "    <tr style=\"text-align: right;\">\n",
       "      <th></th>\n",
       "      <th>United Kingdom</th>\n",
       "      <th>Germany</th>\n",
       "      <th>France</th>\n",
       "      <th>EIRE</th>\n",
       "      <th>Spain</th>\n",
       "      <th>Netherlands</th>\n",
       "      <th>Belgium</th>\n",
       "      <th>Switzerland</th>\n",
       "      <th>Portugal</th>\n",
       "      <th>Australia</th>\n",
       "      <th>...</th>\n",
       "      <th>Malta</th>\n",
       "      <th>United Arab Emirates</th>\n",
       "      <th>European Community</th>\n",
       "      <th>RSA</th>\n",
       "      <th>Lebanon</th>\n",
       "      <th>Lithuania</th>\n",
       "      <th>Brazil</th>\n",
       "      <th>Czech Republic</th>\n",
       "      <th>Bahrain</th>\n",
       "      <th>Saudi Arabia</th>\n",
       "    </tr>\n",
       "  </thead>\n",
       "  <tbody>\n",
       "    <tr>\n",
       "      <th>Country</th>\n",
       "      <td>349203</td>\n",
       "      <td>9025</td>\n",
       "      <td>8326</td>\n",
       "      <td>7226</td>\n",
       "      <td>2479</td>\n",
       "      <td>2359</td>\n",
       "      <td>2031</td>\n",
       "      <td>1841</td>\n",
       "      <td>1453</td>\n",
       "      <td>1181</td>\n",
       "      <td>...</td>\n",
       "      <td>112</td>\n",
       "      <td>68</td>\n",
       "      <td>60</td>\n",
       "      <td>57</td>\n",
       "      <td>45</td>\n",
       "      <td>35</td>\n",
       "      <td>32</td>\n",
       "      <td>25</td>\n",
       "      <td>17</td>\n",
       "      <td>9</td>\n",
       "    </tr>\n",
       "  </tbody>\n",
       "</table>\n",
       "<p>1 rows × 37 columns</p>\n",
       "</div>"
      ],
      "text/plain": [
       "         United Kingdom  Germany  France  EIRE  Spain  Netherlands  Belgium  \\\n",
       "Country          349203     9025    8326  7226   2479         2359     2031   \n",
       "\n",
       "         Switzerland  Portugal  Australia  ...  Malta  United Arab Emirates  \\\n",
       "Country         1841      1453       1181  ...    112                    68   \n",
       "\n",
       "         European Community  RSA  Lebanon  Lithuania  Brazil  Czech Republic  \\\n",
       "Country                  60   57       45         35      32              25   \n",
       "\n",
       "         Bahrain  Saudi Arabia  \n",
       "Country       17             9  \n",
       "\n",
       "[1 rows x 37 columns]"
      ]
     },
     "execution_count": 24,
     "metadata": {},
     "output_type": "execute_result"
    }
   ],
   "source": [
    "df_country=pd.DataFrame(df['Country'].value_counts()).T\n",
    "df_country"
   ]
  },
  {
   "cell_type": "markdown",
   "id": "54c93e55",
   "metadata": {},
   "source": [
    "#### Q : what UnitPrice in each Country ?"
   ]
  },
  {
   "cell_type": "code",
   "execution_count": 25,
   "id": "f0a2772b",
   "metadata": {},
   "outputs": [
    {
     "data": {
      "image/png": "[encoded data removed]",
      "text/plain": [
       "<Figure size 1500x1500 with 1 Axes>"
      ]
     },
     "metadata": {},
     "output_type": "display_data"
    }
   ],
   "source": [
    "plt.figure(figsize=(15,15))\n",
    "plt.scatter(df['UnitPrice'],df['Country'])\n",
    "plt.xlabel('UnitPrice')\n",
    "plt.ylabel('Country')\n",
    "plt.show()"
   ]
  },
  {
   "cell_type": "markdown",
   "id": "5f438799",
   "metadata": {},
   "source": [
    "#### Insight : from this plot ,there are diffrent unit price in each country but the most two country United Kingdom , Singapore"
   ]
  },
  {
   "cell_type": "markdown",
   "id": "28699498",
   "metadata": {},
   "source": [
    "#### Q : what is the most country that orderd from it ?"
   ]
  },
  {
   "cell_type": "code",
   "execution_count": 26,
   "id": "faac3e8f",
   "metadata": {},
   "outputs": [
    {
     "data": {
      "image/png": "[encoded data removed]",
      "text/plain": [
       "<Figure size 1000x1500 with 1 Axes>"
      ]
     },
     "metadata": {},
     "output_type": "display_data"
    }
   ],
   "source": [
    "plt.figure(figsize=(10,15))\n",
    "sns.countplot(x=df['Country'],data=df)\n",
    "plt.xticks(rotation=90)\n",
    "plt.show()"
   ]
  },
  {
   "cell_type": "markdown",
   "id": "9ac4b86d",
   "metadata": {},
   "source": [
    "#### Insight : the most country that orderd from it : United Kingdom"
   ]
  },
  {
   "cell_type": "markdown",
   "id": "3f81ff89",
   "metadata": {},
   "source": [
    "###  Outlier Detection"
   ]
  },
  {
   "cell_type": "code",
   "execution_count": 27,
   "id": "44076086",
   "metadata": {},
   "outputs": [
    {
     "data": {
      "text/plain": [
       "count    392692.000000\n",
       "mean          3.125914\n",
       "std          22.241836\n",
       "min           0.001000\n",
       "25%           1.250000\n",
       "50%           1.950000\n",
       "75%           3.750000\n",
       "max        8142.750000\n",
       "Name: UnitPrice, dtype: float64"
      ]
     },
     "execution_count": 27,
     "metadata": {},
     "output_type": "execute_result"
    }
   ],
   "source": [
    "df['UnitPrice'].describe()"
   ]
  },
  {
   "cell_type": "markdown",
   "id": "49fe47f8",
   "metadata": {},
   "source": [
    "### Remove outlier from data "
   ]
  },
  {
   "cell_type": "code",
   "execution_count": 28,
   "id": "38f70518",
   "metadata": {},
   "outputs": [],
   "source": [
    "q1 = np.percentile(df['UnitPrice'], 25)\n",
    "q3 = np.percentile(df['UnitPrice'], 75)\n",
    "iqr = q3 - q1\n",
    "min_range=q1 - 1.5 * iqr\n",
    "max_range=q3 + 1.5 * iqr\n",
    "\n",
    "df = df[(df['UnitPrice'] >= min_range) & (df['UnitPrice'] <= max_range)]"
   ]
  },
  {
   "cell_type": "markdown",
   "id": "c7520a01",
   "metadata": {},
   "source": [
    "##### Insight :  Any data  outside the range of min_range  and max_range  is outlier  and this method to remove it from data"
   ]
  },
  {
   "cell_type": "code",
   "execution_count": 29,
   "id": "2aa71cab",
   "metadata": {},
   "outputs": [
    {
     "data": {
      "image/png": "[encoded data removed]",
      "text/plain": [
       "<Figure size 640x480 with 1 Axes>"
      ]
     },
     "metadata": {},
     "output_type": "display_data"
    }
   ],
   "source": [
    "plt.boxplot(df['UnitPrice'])\n",
    "plt.show()"
   ]
  },
  {
   "cell_type": "markdown",
   "id": "e84b5693",
   "metadata": {},
   "source": [
    "#### Now ,the outlier deleted from data "
   ]
  },
  {
   "cell_type": "markdown",
   "id": "737f78ca",
   "metadata": {},
   "source": [
    "#### correlation matrix for columns"
   ]
  },
  {
   "cell_type": "code",
   "execution_count": 30,
   "id": "5b98a255",
   "metadata": {},
   "outputs": [
    {
     "data": {
      "text/plain": [
       "<Axes: >"
      ]
     },
     "execution_count": 30,
     "metadata": {},
     "output_type": "execute_result"
    },
    {
     "data": {
      "image/png": "[encoded data removed]",
      "text/plain": [
       "<Figure size 640x480 with 2 Axes>"
      ]
     },
     "metadata": {},
     "output_type": "display_data"
    }
   ],
   "source": [
    "figsize=(15,15)\n",
    "sns.heatmap(df.corr(),annot=True)"
   ]
  },
  {
   "cell_type": "code",
   "execution_count": 31,
   "id": "215540c2",
   "metadata": {},
   "outputs": [],
   "source": [
    "from sklearn.preprocessing import StandardScaler\n",
    "from sklearn.preprocessing import LabelEncoder\n",
    "from sklearn.model_selection import train_test_split"
   ]
  },
  {
   "cell_type": "code",
   "execution_count": 32,
   "id": "2578b9c7",
   "metadata": {},
   "outputs": [
    {
     "data": {
      "text/html": [
       "<div>\n",
       "<style scoped>\n",
       "    .dataframe tbody tr th:only-of-type {\n",
       "        vertical-align: middle;\n",
       "    }\n",
       "\n",
       "    .dataframe tbody tr th {\n",
       "        vertical-align: top;\n",
       "    }\n",
       "\n",
       "    .dataframe thead th {\n",
       "        text-align: right;\n",
       "    }\n",
       "</style>\n",
       "<table border=\"1\" class=\"dataframe\">\n",
       "  <thead>\n",
       "    <tr style=\"text-align: right;\">\n",
       "      <th></th>\n",
       "      <th>StockCode</th>\n",
       "      <th>Quantity</th>\n",
       "      <th>UnitPrice</th>\n",
       "      <th>Country</th>\n",
       "    </tr>\n",
       "  </thead>\n",
       "  <tbody>\n",
       "    <tr>\n",
       "      <th>0</th>\n",
       "      <td>85123A</td>\n",
       "      <td>6</td>\n",
       "      <td>2.55</td>\n",
       "      <td>United Kingdom</td>\n",
       "    </tr>\n",
       "    <tr>\n",
       "      <th>1</th>\n",
       "      <td>71053</td>\n",
       "      <td>6</td>\n",
       "      <td>3.39</td>\n",
       "      <td>United Kingdom</td>\n",
       "    </tr>\n",
       "    <tr>\n",
       "      <th>2</th>\n",
       "      <td>84406B</td>\n",
       "      <td>8</td>\n",
       "      <td>2.75</td>\n",
       "      <td>United Kingdom</td>\n",
       "    </tr>\n",
       "    <tr>\n",
       "      <th>3</th>\n",
       "      <td>84029G</td>\n",
       "      <td>6</td>\n",
       "      <td>3.39</td>\n",
       "      <td>United Kingdom</td>\n",
       "    </tr>\n",
       "    <tr>\n",
       "      <th>4</th>\n",
       "      <td>84029E</td>\n",
       "      <td>6</td>\n",
       "      <td>3.39</td>\n",
       "      <td>United Kingdom</td>\n",
       "    </tr>\n",
       "    <tr>\n",
       "      <th>...</th>\n",
       "      <td>...</td>\n",
       "      <td>...</td>\n",
       "      <td>...</td>\n",
       "      <td>...</td>\n",
       "    </tr>\n",
       "    <tr>\n",
       "      <th>541904</th>\n",
       "      <td>22613</td>\n",
       "      <td>12</td>\n",
       "      <td>0.85</td>\n",
       "      <td>France</td>\n",
       "    </tr>\n",
       "    <tr>\n",
       "      <th>541905</th>\n",
       "      <td>22899</td>\n",
       "      <td>6</td>\n",
       "      <td>2.10</td>\n",
       "      <td>France</td>\n",
       "    </tr>\n",
       "    <tr>\n",
       "      <th>541906</th>\n",
       "      <td>23254</td>\n",
       "      <td>4</td>\n",
       "      <td>4.15</td>\n",
       "      <td>France</td>\n",
       "    </tr>\n",
       "    <tr>\n",
       "      <th>541907</th>\n",
       "      <td>23255</td>\n",
       "      <td>4</td>\n",
       "      <td>4.15</td>\n",
       "      <td>France</td>\n",
       "    </tr>\n",
       "    <tr>\n",
       "      <th>541908</th>\n",
       "      <td>22138</td>\n",
       "      <td>3</td>\n",
       "      <td>4.95</td>\n",
       "      <td>France</td>\n",
       "    </tr>\n",
       "  </tbody>\n",
       "</table>\n",
       "<p>358580 rows × 4 columns</p>\n",
       "</div>"
      ],
      "text/plain": [
       "       StockCode  Quantity  UnitPrice         Country\n",
       "0         85123A         6       2.55  United Kingdom\n",
       "1          71053         6       3.39  United Kingdom\n",
       "2         84406B         8       2.75  United Kingdom\n",
       "3         84029G         6       3.39  United Kingdom\n",
       "4         84029E         6       3.39  United Kingdom\n",
       "...          ...       ...        ...             ...\n",
       "541904     22613        12       0.85          France\n",
       "541905     22899         6       2.10          France\n",
       "541906     23254         4       4.15          France\n",
       "541907     23255         4       4.15          France\n",
       "541908     22138         3       4.95          France\n",
       "\n",
       "[358580 rows x 4 columns]"
      ]
     },
     "execution_count": 32,
     "metadata": {},
     "output_type": "execute_result"
    }
   ],
   "source": [
    "df.drop(['InvoiceNo','Description','CustomerID','InvoiceDate'],axis=1,inplace=True)\n",
    "df"
   ]
  },
  {
   "cell_type": "markdown",
   "id": "3df96d64",
   "metadata": {},
   "source": [
    "#### Encoding for categorical features "
   ]
  },
  {
   "cell_type": "code",
   "execution_count": 33,
   "id": "13070ed0",
   "metadata": {},
   "outputs": [],
   "source": [
    "cat_features=df.select_dtypes(include='object').columns"
   ]
  },
  {
   "cell_type": "code",
   "execution_count": 34,
   "id": "7d517a0a",
   "metadata": {},
   "outputs": [],
   "source": [
    "lb=LabelEncoder()\n",
    "for col in cat_features: \n",
    "    df[col]=lb.fit_transform(df[col])"
   ]
  },
  {
   "cell_type": "code",
   "execution_count": 35,
   "id": "af3d1d6e",
   "metadata": {},
   "outputs": [
    {
     "data": {
      "text/html": [
       "<div>\n",
       "<style scoped>\n",
       "    .dataframe tbody tr th:only-of-type {\n",
       "        vertical-align: middle;\n",
       "    }\n",
       "\n",
       "    .dataframe tbody tr th {\n",
       "        vertical-align: top;\n",
       "    }\n",
       "\n",
       "    .dataframe thead th {\n",
       "        text-align: right;\n",
       "    }\n",
       "</style>\n",
       "<table border=\"1\" class=\"dataframe\">\n",
       "  <thead>\n",
       "    <tr style=\"text-align: right;\">\n",
       "      <th></th>\n",
       "      <th>StockCode</th>\n",
       "      <th>Quantity</th>\n",
       "      <th>UnitPrice</th>\n",
       "      <th>Country</th>\n",
       "    </tr>\n",
       "  </thead>\n",
       "  <tbody>\n",
       "    <tr>\n",
       "      <th>0</th>\n",
       "      <td>3042</td>\n",
       "      <td>6</td>\n",
       "      <td>2.55</td>\n",
       "      <td>35</td>\n",
       "    </tr>\n",
       "    <tr>\n",
       "      <th>1</th>\n",
       "      <td>2486</td>\n",
       "      <td>6</td>\n",
       "      <td>3.39</td>\n",
       "      <td>35</td>\n",
       "    </tr>\n",
       "    <tr>\n",
       "      <th>2</th>\n",
       "      <td>2684</td>\n",
       "      <td>8</td>\n",
       "      <td>2.75</td>\n",
       "      <td>35</td>\n",
       "    </tr>\n",
       "    <tr>\n",
       "      <th>3</th>\n",
       "      <td>2636</td>\n",
       "      <td>6</td>\n",
       "      <td>3.39</td>\n",
       "      <td>35</td>\n",
       "    </tr>\n",
       "    <tr>\n",
       "      <th>4</th>\n",
       "      <td>2635</td>\n",
       "      <td>6</td>\n",
       "      <td>3.39</td>\n",
       "      <td>35</td>\n",
       "    </tr>\n",
       "    <tr>\n",
       "      <th>...</th>\n",
       "      <td>...</td>\n",
       "      <td>...</td>\n",
       "      <td>...</td>\n",
       "      <td>...</td>\n",
       "    </tr>\n",
       "    <tr>\n",
       "      <th>541904</th>\n",
       "      <td>1412</td>\n",
       "      <td>12</td>\n",
       "      <td>0.85</td>\n",
       "      <td>13</td>\n",
       "    </tr>\n",
       "    <tr>\n",
       "      <th>541905</th>\n",
       "      <td>1647</td>\n",
       "      <td>6</td>\n",
       "      <td>2.10</td>\n",
       "      <td>13</td>\n",
       "    </tr>\n",
       "    <tr>\n",
       "      <th>541906</th>\n",
       "      <td>1964</td>\n",
       "      <td>4</td>\n",
       "      <td>4.15</td>\n",
       "      <td>13</td>\n",
       "    </tr>\n",
       "    <tr>\n",
       "      <th>541907</th>\n",
       "      <td>1965</td>\n",
       "      <td>4</td>\n",
       "      <td>4.15</td>\n",
       "      <td>13</td>\n",
       "    </tr>\n",
       "    <tr>\n",
       "      <th>541908</th>\n",
       "      <td>1003</td>\n",
       "      <td>3</td>\n",
       "      <td>4.95</td>\n",
       "      <td>13</td>\n",
       "    </tr>\n",
       "  </tbody>\n",
       "</table>\n",
       "<p>358580 rows × 4 columns</p>\n",
       "</div>"
      ],
      "text/plain": [
       "        StockCode  Quantity  UnitPrice  Country\n",
       "0            3042         6       2.55       35\n",
       "1            2486         6       3.39       35\n",
       "2            2684         8       2.75       35\n",
       "3            2636         6       3.39       35\n",
       "4            2635         6       3.39       35\n",
       "...           ...       ...        ...      ...\n",
       "541904       1412        12       0.85       13\n",
       "541905       1647         6       2.10       13\n",
       "541906       1964         4       4.15       13\n",
       "541907       1965         4       4.15       13\n",
       "541908       1003         3       4.95       13\n",
       "\n",
       "[358580 rows x 4 columns]"
      ]
     },
     "execution_count": 35,
     "metadata": {},
     "output_type": "execute_result"
    }
   ],
   "source": [
    "df"
   ]
  },
  {
   "cell_type": "markdown",
   "id": "8c163e3b",
   "metadata": {},
   "source": [
    "## scaling for data "
   ]
  },
  {
   "cell_type": "code",
   "execution_count": 36,
   "id": "372e340c",
   "metadata": {},
   "outputs": [],
   "source": [
    "x=df.drop('Country',axis=1)\n",
    "y=df['Country']"
   ]
  },
  {
   "cell_type": "code",
   "execution_count": 37,
   "id": "4ebd0ee8",
   "metadata": {},
   "outputs": [],
   "source": [
    "scl=StandardScaler()\n",
    "columns=x.columns\n",
    "x=scl.fit_transform(x)\n",
    "x=pd.DataFrame(x,columns=columns)\n"
   ]
  },
  {
   "cell_type": "code",
   "execution_count": 38,
   "id": "b1813b41",
   "metadata": {},
   "outputs": [
    {
     "data": {
      "text/html": [
       "<div>\n",
       "<style scoped>\n",
       "    .dataframe tbody tr th:only-of-type {\n",
       "        vertical-align: middle;\n",
       "    }\n",
       "\n",
       "    .dataframe tbody tr th {\n",
       "        vertical-align: top;\n",
       "    }\n",
       "\n",
       "    .dataframe thead th {\n",
       "        text-align: right;\n",
       "    }\n",
       "</style>\n",
       "<table border=\"1\" class=\"dataframe\">\n",
       "  <thead>\n",
       "    <tr style=\"text-align: right;\">\n",
       "      <th></th>\n",
       "      <th>StockCode</th>\n",
       "      <th>Quantity</th>\n",
       "      <th>UnitPrice</th>\n",
       "    </tr>\n",
       "  </thead>\n",
       "  <tbody>\n",
       "    <tr>\n",
       "      <th>0</th>\n",
       "      <td>1.998729</td>\n",
       "      <td>-0.042753</td>\n",
       "      <td>0.269377</td>\n",
       "    </tr>\n",
       "    <tr>\n",
       "      <th>1</th>\n",
       "      <td>1.290377</td>\n",
       "      <td>-0.042753</td>\n",
       "      <td>0.816307</td>\n",
       "    </tr>\n",
       "    <tr>\n",
       "      <th>2</th>\n",
       "      <td>1.542632</td>\n",
       "      <td>-0.032162</td>\n",
       "      <td>0.399598</td>\n",
       "    </tr>\n",
       "    <tr>\n",
       "      <th>3</th>\n",
       "      <td>1.481479</td>\n",
       "      <td>-0.042753</td>\n",
       "      <td>0.816307</td>\n",
       "    </tr>\n",
       "    <tr>\n",
       "      <th>4</th>\n",
       "      <td>1.480205</td>\n",
       "      <td>-0.042753</td>\n",
       "      <td>0.816307</td>\n",
       "    </tr>\n",
       "    <tr>\n",
       "      <th>...</th>\n",
       "      <td>...</td>\n",
       "      <td>...</td>\n",
       "      <td>...</td>\n",
       "    </tr>\n",
       "    <tr>\n",
       "      <th>358575</th>\n",
       "      <td>-0.077915</td>\n",
       "      <td>-0.010980</td>\n",
       "      <td>-0.837504</td>\n",
       "    </tr>\n",
       "    <tr>\n",
       "      <th>358576</th>\n",
       "      <td>0.221479</td>\n",
       "      <td>-0.042753</td>\n",
       "      <td>-0.023621</td>\n",
       "    </tr>\n",
       "    <tr>\n",
       "      <th>358577</th>\n",
       "      <td>0.625341</td>\n",
       "      <td>-0.053344</td>\n",
       "      <td>1.311148</td>\n",
       "    </tr>\n",
       "    <tr>\n",
       "      <th>358578</th>\n",
       "      <td>0.626615</td>\n",
       "      <td>-0.053344</td>\n",
       "      <td>1.311148</td>\n",
       "    </tr>\n",
       "    <tr>\n",
       "      <th>358579</th>\n",
       "      <td>-0.598987</td>\n",
       "      <td>-0.058640</td>\n",
       "      <td>1.832033</td>\n",
       "    </tr>\n",
       "  </tbody>\n",
       "</table>\n",
       "<p>358580 rows × 3 columns</p>\n",
       "</div>"
      ],
      "text/plain": [
       "        StockCode  Quantity  UnitPrice\n",
       "0        1.998729 -0.042753   0.269377\n",
       "1        1.290377 -0.042753   0.816307\n",
       "2        1.542632 -0.032162   0.399598\n",
       "3        1.481479 -0.042753   0.816307\n",
       "4        1.480205 -0.042753   0.816307\n",
       "...           ...       ...        ...\n",
       "358575  -0.077915 -0.010980  -0.837504\n",
       "358576   0.221479 -0.042753  -0.023621\n",
       "358577   0.625341 -0.053344   1.311148\n",
       "358578   0.626615 -0.053344   1.311148\n",
       "358579  -0.598987 -0.058640   1.832033\n",
       "\n",
       "[358580 rows x 3 columns]"
      ]
     },
     "execution_count": 38,
     "metadata": {},
     "output_type": "execute_result"
    }
   ],
   "source": [
    "x"
   ]
  },
  {
   "cell_type": "code",
   "execution_count": 39,
   "id": "1f18b7e3",
   "metadata": {},
   "outputs": [
    {
     "data": {
      "text/plain": [
       "0         35\n",
       "1         35\n",
       "2         35\n",
       "3         35\n",
       "4         35\n",
       "          ..\n",
       "541904    13\n",
       "541905    13\n",
       "541906    13\n",
       "541907    13\n",
       "541908    13\n",
       "Name: Country, Length: 358580, dtype: int32"
      ]
     },
     "execution_count": 39,
     "metadata": {},
     "output_type": "execute_result"
    }
   ],
   "source": [
    "y"
   ]
  },
  {
   "cell_type": "markdown",
   "id": "4dced153",
   "metadata": {},
   "source": [
    "### Split data  to train and test "
   ]
  },
  {
   "cell_type": "code",
   "execution_count": 40,
   "id": "81032907",
   "metadata": {},
   "outputs": [
    {
     "name": "stdout",
     "output_type": "stream",
     "text": [
      "x train shape  (251006, 3)\n",
      "y train shape  (251006,)\n",
      "x test shape  (107574, 3)\n",
      "y test shape  (107574,)\n"
     ]
    }
   ],
   "source": [
    "x_train,x_test,y_train,y_test=train_test_split(x,y,test_size=0.3,random_state=42)\n",
    "print('x train shape ',x_train.shape)\n",
    "print('y train shape ',y_train.shape)\n",
    "print('x test shape ',x_test.shape)\n",
    "print('y test shape ',y_test.shape)"
   ]
  },
  {
   "cell_type": "markdown",
   "id": "993a4a99",
   "metadata": {},
   "source": [
    "### Build NN model using tensorflow"
   ]
  },
  {
   "cell_type": "code",
   "execution_count": 41,
   "id": "e01dca78",
   "metadata": {},
   "outputs": [],
   "source": [
    "from tensorflow.keras.layers import  Dropout"
   ]
  },
  {
   "cell_type": "code",
   "execution_count": 42,
   "id": "2e32268a",
   "metadata": {},
   "outputs": [],
   "source": [
    "model=Sequential()\n",
    "model.add(layers.Dense(70,activation='tanh',input_shape=(x_train.shape[1],1)))\n",
    "model.add(Dropout(0.5))\n",
    "model.add(layers.Dense(10, activation='relu'))\n",
    "model.add(layers.Dense(1,activation='linear'))\n",
    "          "
   ]
  },
  {
   "cell_type": "code",
   "execution_count": 43,
   "id": "4e1b66cc",
   "metadata": {},
   "outputs": [
    {
     "name": "stdout",
     "output_type": "stream",
     "text": [
      "Model: \"sequential\"\n",
      "_________________________________________________________________\n",
      " Layer (type)                Output Shape              Param #   \n",
      "=================================================================\n",
      " dense (Dense)               (None, 3, 70)             140       \n",
      "                                                                 \n",
      " dropout (Dropout)           (None, 3, 70)             0         \n",
      "                                                                 \n",
      " dense_1 (Dense)             (None, 3, 10)             710       \n",
      "                                                                 \n",
      " dense_2 (Dense)             (None, 3, 1)              11        \n",
      "                                                                 \n",
      "=================================================================\n",
      "Total params: 861 (3.36 KB)\n",
      "Trainable params: 861 (3.36 KB)\n",
      "Non-trainable params: 0 (0.00 Byte)\n",
      "_________________________________________________________________\n"
     ]
    }
   ],
   "source": [
    "model.summary()"
   ]
  },
  {
   "cell_type": "code",
   "execution_count": 44,
   "id": "ea4e0213",
   "metadata": {},
   "outputs": [],
   "source": [
    "# model.compile(optimizer='Adam',loss='mean_squared_error',metrics=['accuracy'])\n",
    "model.compile(optimizer=tf.keras.optimizers.Adam(learning_rate=1e-4),loss='mean_squared_error')\n"
   ]
  },
  {
   "cell_type": "code",
   "execution_count": 45,
   "id": "47e86a42",
   "metadata": {
    "scrolled": true
   },
   "outputs": [
    {
     "name": "stdout",
     "output_type": "stream",
     "text": [
      "Epoch 1/100\n",
      "3515/3515 [==============================] - 23s 6ms/step - loss: 497.4362 - val_loss: 45.0654\n",
      "Epoch 2/100\n",
      "3515/3515 [==============================] - 23s 6ms/step - loss: 60.1123 - val_loss: 44.2743\n",
      "Epoch 3/100\n",
      "3515/3515 [==============================] - 22s 6ms/step - loss: 58.1872 - val_loss: 44.1154\n",
      "Epoch 4/100\n",
      "3515/3515 [==============================] - 17s 5ms/step - loss: 57.0722 - val_loss: 44.1723\n",
      "Epoch 5/100\n",
      "3515/3515 [==============================] - 18s 5ms/step - loss: 56.3837 - val_loss: 43.8932\n",
      "Epoch 6/100\n",
      "3515/3515 [==============================] - 23s 6ms/step - loss: 55.5760 - val_loss: 43.9364\n",
      "Epoch 7/100\n",
      "3515/3515 [==============================] - 23s 6ms/step - loss: 54.9401 - val_loss: 43.9735\n",
      "Epoch 8/100\n",
      "3515/3515 [==============================] - 21s 6ms/step - loss: 54.3437 - val_loss: 43.8104\n",
      "Epoch 9/100\n",
      "3515/3515 [==============================] - 21s 6ms/step - loss: 53.7681 - val_loss: 43.9478\n",
      "Epoch 10/100\n",
      "3515/3515 [==============================] - 21s 6ms/step - loss: 53.2018 - val_loss: 43.8641\n",
      "Epoch 11/100\n",
      "3515/3515 [==============================] - 21s 6ms/step - loss: 52.6753 - val_loss: 43.8666\n",
      "Epoch 12/100\n",
      "3515/3515 [==============================] - 22s 6ms/step - loss: 52.1125 - val_loss: 43.8209\n",
      "Epoch 13/100\n",
      "3515/3515 [==============================] - 21s 6ms/step - loss: 51.5703 - val_loss: 43.9000\n",
      "Epoch 14/100\n",
      "3515/3515 [==============================] - 22s 6ms/step - loss: 51.0331 - val_loss: 43.9057\n",
      "Epoch 15/100\n",
      "3515/3515 [==============================] - 22s 6ms/step - loss: 50.4763 - val_loss: 43.8260\n",
      "Epoch 16/100\n",
      "3515/3515 [==============================] - 23s 6ms/step - loss: 49.8515 - val_loss: 43.8017\n",
      "Epoch 17/100\n",
      "3515/3515 [==============================] - 18s 5ms/step - loss: 49.3888 - val_loss: 43.7735\n",
      "Epoch 18/100\n",
      "3515/3515 [==============================] - 18s 5ms/step - loss: 48.8322 - val_loss: 43.7922\n",
      "Epoch 19/100\n",
      "3515/3515 [==============================] - 18s 5ms/step - loss: 48.3623 - val_loss: 43.7781\n",
      "Epoch 20/100\n",
      "3515/3515 [==============================] - 18s 5ms/step - loss: 47.8290 - val_loss: 43.7865\n",
      "Epoch 21/100\n",
      "3515/3515 [==============================] - 19s 5ms/step - loss: 47.3814 - val_loss: 43.7822\n",
      "Epoch 22/100\n",
      "3515/3515 [==============================] - 18s 5ms/step - loss: 47.0126 - val_loss: 43.8187\n",
      "Epoch 23/100\n",
      "3515/3515 [==============================] - 17s 5ms/step - loss: 46.5723 - val_loss: 43.8065\n",
      "Epoch 24/100\n",
      "3515/3515 [==============================] - 19s 5ms/step - loss: 46.2521 - val_loss: 43.8191\n",
      "Epoch 25/100\n",
      "3515/3515 [==============================] - 18s 5ms/step - loss: 45.9026 - val_loss: 43.7662\n",
      "Epoch 26/100\n",
      "3515/3515 [==============================] - 18s 5ms/step - loss: 45.5787 - val_loss: 43.8086\n",
      "Epoch 27/100\n",
      "3515/3515 [==============================] - 18s 5ms/step - loss: 45.3022 - val_loss: 43.7781\n",
      "Epoch 28/100\n",
      "3515/3515 [==============================] - 19s 5ms/step - loss: 45.0724 - val_loss: 43.7731\n",
      "Epoch 29/100\n",
      "3515/3515 [==============================] - 22s 6ms/step - loss: 44.8353 - val_loss: 43.7668\n",
      "Epoch 30/100\n",
      "3515/3515 [==============================] - 22s 6ms/step - loss: 44.6852 - val_loss: 43.8165\n",
      "Epoch 31/100\n",
      "3515/3515 [==============================] - 19s 6ms/step - loss: 44.5196 - val_loss: 43.8396\n",
      "Epoch 32/100\n",
      "3515/3515 [==============================] - 19s 5ms/step - loss: 44.3891 - val_loss: 43.7989\n",
      "Epoch 33/100\n",
      "3515/3515 [==============================] - 19s 5ms/step - loss: 44.2651 - val_loss: 43.7687\n",
      "Epoch 34/100\n",
      "3515/3515 [==============================] - 18s 5ms/step - loss: 44.1666 - val_loss: 43.7964\n",
      "Epoch 35/100\n",
      "3515/3515 [==============================] - 17s 5ms/step - loss: 44.0658 - val_loss: 43.7690\n",
      "Epoch 36/100\n",
      "3515/3515 [==============================] - 18s 5ms/step - loss: 44.0159 - val_loss: 43.7706\n",
      "Epoch 37/100\n",
      "3515/3515 [==============================] - 20s 6ms/step - loss: 43.9523 - val_loss: 43.7662\n",
      "Epoch 38/100\n",
      "3515/3515 [==============================] - 17s 5ms/step - loss: 43.9124 - val_loss: 43.7661\n",
      "Epoch 39/100\n",
      "3515/3515 [==============================] - 17s 5ms/step - loss: 43.8711 - val_loss: 43.7688\n",
      "Epoch 40/100\n",
      "3515/3515 [==============================] - 20s 6ms/step - loss: 43.8483 - val_loss: 43.7664\n",
      "Epoch 41/100\n",
      "3515/3515 [==============================] - 20s 6ms/step - loss: 43.8160 - val_loss: 43.7759\n",
      "Epoch 42/100\n",
      "3515/3515 [==============================] - 19s 5ms/step - loss: 43.8018 - val_loss: 43.7807\n",
      "Epoch 43/100\n",
      "3515/3515 [==============================] - 20s 6ms/step - loss: 43.7769 - val_loss: 43.7680\n",
      "Epoch 44/100\n",
      "3515/3515 [==============================] - 19s 5ms/step - loss: 43.7651 - val_loss: 43.7730\n",
      "Epoch 45/100\n",
      "3515/3515 [==============================] - 19s 5ms/step - loss: 43.7539 - val_loss: 43.7738\n",
      "Epoch 46/100\n",
      "3515/3515 [==============================] - 19s 5ms/step - loss: 43.7463 - val_loss: 43.7677\n",
      "Epoch 47/100\n",
      "3515/3515 [==============================] - 20s 6ms/step - loss: 43.7423 - val_loss: 43.7660\n",
      "Epoch 48/100\n",
      "3515/3515 [==============================] - 20s 6ms/step - loss: 43.7390 - val_loss: 43.7660\n",
      "Epoch 49/100\n",
      "3515/3515 [==============================] - 19s 5ms/step - loss: 43.7263 - val_loss: 43.7663\n",
      "Epoch 50/100\n",
      "3515/3515 [==============================] - 19s 5ms/step - loss: 43.7288 - val_loss: 43.7682\n",
      "Epoch 51/100\n",
      "3515/3515 [==============================] - 20s 6ms/step - loss: 43.7193 - val_loss: 43.7686\n",
      "Epoch 52/100\n",
      "3515/3515 [==============================] - 22s 6ms/step - loss: 43.7217 - val_loss: 43.7763\n",
      "Epoch 53/100\n",
      "3515/3515 [==============================] - 22s 6ms/step - loss: 43.7202 - val_loss: 43.7675\n",
      "Epoch 54/100\n",
      "3515/3515 [==============================] - 22s 6ms/step - loss: 43.7146 - val_loss: 43.7700\n",
      "Epoch 55/100\n",
      "3515/3515 [==============================] - 18s 5ms/step - loss: 43.7173 - val_loss: 43.7664\n",
      "Epoch 56/100\n",
      "3515/3515 [==============================] - 18s 5ms/step - loss: 43.7121 - val_loss: 43.7719\n",
      "Epoch 57/100\n",
      "3515/3515 [==============================] - 18s 5ms/step - loss: 43.7112 - val_loss: 43.7716\n",
      "Epoch 58/100\n",
      "3515/3515 [==============================] - 20s 6ms/step - loss: 43.7102 - val_loss: 43.7667\n",
      "Epoch 59/100\n",
      "3515/3515 [==============================] - 22s 6ms/step - loss: 43.7101 - val_loss: 43.7691\n",
      "Epoch 60/100\n",
      "3515/3515 [==============================] - 22s 6ms/step - loss: 43.7093 - val_loss: 43.7708\n",
      "Epoch 61/100\n",
      "3515/3515 [==============================] - 21s 6ms/step - loss: 43.7092 - val_loss: 43.7668\n",
      "Epoch 62/100\n",
      "3515/3515 [==============================] - 18s 5ms/step - loss: 43.7089 - val_loss: 43.7706\n",
      "Epoch 63/100\n",
      "3515/3515 [==============================] - 19s 5ms/step - loss: 43.7065 - val_loss: 43.7802\n",
      "Epoch 64/100\n",
      "3515/3515 [==============================] - 19s 5ms/step - loss: 43.7070 - val_loss: 43.7667\n",
      "Epoch 65/100\n",
      "3515/3515 [==============================] - 19s 5ms/step - loss: 43.7091 - val_loss: 43.7681\n",
      "Epoch 66/100\n",
      "3515/3515 [==============================] - 20s 6ms/step - loss: 43.7057 - val_loss: 43.7803\n",
      "Epoch 67/100\n",
      "3515/3515 [==============================] - 22s 6ms/step - loss: 43.7076 - val_loss: 43.7655\n",
      "Epoch 68/100\n",
      "3515/3515 [==============================] - 18s 5ms/step - loss: 43.7064 - val_loss: 43.7672\n",
      "Epoch 69/100\n",
      "3515/3515 [==============================] - 18s 5ms/step - loss: 43.7060 - val_loss: 43.7647\n",
      "Epoch 70/100\n",
      "3515/3515 [==============================] - 19s 5ms/step - loss: 43.7039 - val_loss: 43.7648\n",
      "Epoch 71/100\n",
      "3515/3515 [==============================] - 19s 5ms/step - loss: 43.7035 - val_loss: 43.7636\n",
      "Epoch 72/100\n",
      "3515/3515 [==============================] - 19s 5ms/step - loss: 43.7025 - val_loss: 43.7656\n",
      "Epoch 73/100\n",
      "3515/3515 [==============================] - 18s 5ms/step - loss: 43.7018 - val_loss: 43.7681\n",
      "Epoch 74/100\n",
      "3515/3515 [==============================] - 21s 6ms/step - loss: 43.7004 - val_loss: 43.7613\n",
      "Epoch 75/100\n",
      "3515/3515 [==============================] - 22s 6ms/step - loss: 43.6974 - val_loss: 43.7599\n",
      "Epoch 76/100\n",
      "3515/3515 [==============================] - 21s 6ms/step - loss: 43.6979 - val_loss: 43.7619\n",
      "Epoch 77/100\n"
     ]
    },
    {
     "name": "stdout",
     "output_type": "stream",
     "text": [
      "3515/3515 [==============================] - 21s 6ms/step - loss: 43.6969 - val_loss: 43.7584\n",
      "Epoch 78/100\n",
      "3515/3515 [==============================] - 21s 6ms/step - loss: 43.6965 - val_loss: 43.7578\n",
      "Epoch 79/100\n",
      "3515/3515 [==============================] - 21s 6ms/step - loss: 43.6944 - val_loss: 43.7551\n",
      "Epoch 80/100\n",
      "3515/3515 [==============================] - 21s 6ms/step - loss: 43.6932 - val_loss: 43.7537\n",
      "Epoch 81/100\n",
      "3515/3515 [==============================] - 22s 6ms/step - loss: 43.6913 - val_loss: 43.7517\n",
      "Epoch 82/100\n",
      "3515/3515 [==============================] - 21s 6ms/step - loss: 43.6878 - val_loss: 43.7527\n",
      "Epoch 83/100\n",
      "3515/3515 [==============================] - 23s 6ms/step - loss: 43.6869 - val_loss: 43.7476\n",
      "Epoch 84/100\n",
      "3515/3515 [==============================] - 22s 6ms/step - loss: 43.6841 - val_loss: 43.7473\n",
      "Epoch 85/100\n",
      "3515/3515 [==============================] - 22s 6ms/step - loss: 43.6852 - val_loss: 43.7459\n",
      "Epoch 86/100\n",
      "3515/3515 [==============================] - 21s 6ms/step - loss: 43.6840 - val_loss: 43.7452\n",
      "Epoch 87/100\n",
      "3515/3515 [==============================] - 21s 6ms/step - loss: 43.6808 - val_loss: 43.7413\n",
      "Epoch 88/100\n",
      "3515/3515 [==============================] - 21s 6ms/step - loss: 43.6775 - val_loss: 43.7428\n",
      "Epoch 89/100\n",
      "3515/3515 [==============================] - 22s 6ms/step - loss: 43.6756 - val_loss: 43.7458\n",
      "Epoch 90/100\n",
      "3515/3515 [==============================] - 21s 6ms/step - loss: 43.6759 - val_loss: 43.7335\n",
      "Epoch 91/100\n",
      "3515/3515 [==============================] - 22s 6ms/step - loss: 43.6729 - val_loss: 43.7339\n",
      "Epoch 92/100\n",
      "3515/3515 [==============================] - 23s 6ms/step - loss: 43.6705 - val_loss: 43.7291\n",
      "Epoch 93/100\n",
      "3515/3515 [==============================] - 23s 7ms/step - loss: 43.6699 - val_loss: 43.7294\n",
      "Epoch 94/100\n",
      "3515/3515 [==============================] - 20s 6ms/step - loss: 43.6691 - val_loss: 43.7293\n",
      "Epoch 95/100\n",
      "3515/3515 [==============================] - 18s 5ms/step - loss: 43.6671 - val_loss: 43.7240\n",
      "Epoch 96/100\n",
      "3515/3515 [==============================] - 18s 5ms/step - loss: 43.6663 - val_loss: 43.7246\n",
      "Epoch 97/100\n",
      "3515/3515 [==============================] - 20s 6ms/step - loss: 43.6624 - val_loss: 43.7236\n",
      "Epoch 98/100\n",
      "3515/3515 [==============================] - 19s 5ms/step - loss: 43.6583 - val_loss: 43.7184\n",
      "Epoch 99/100\n",
      "3515/3515 [==============================] - 18s 5ms/step - loss: 43.6592 - val_loss: 43.7154\n",
      "Epoch 100/100\n",
      "3515/3515 [==============================] - 18s 5ms/step - loss: 43.6562 - val_loss: 43.7216\n"
     ]
    }
   ],
   "source": [
    "#  i use this method to reduce time of training for model\n",
    "from keras.callbacks import ModelCheckpoint, EarlyStopping\n",
    "EarlyStopping(monitor='loss', patience=2)\n",
    "history = model.fit(\n",
    "    x_train,\n",
    "    y_train,\n",
    "    epochs= 100,\n",
    "    validation_split= 0.3,\n",
    "    batch_size= 50,\n",
    "    verbose= \"auto\",\n",
    "\n",
    ")"
   ]
  },
  {
   "cell_type": "code",
   "execution_count": 46,
   "id": "2d868a5b",
   "metadata": {
    "scrolled": true
   },
   "outputs": [],
   "source": [
    "# model.fit(x_train,y_train,batch_size=32,validation_data=(x_test,y_test),epochs=100)"
   ]
  },
  {
   "cell_type": "code",
   "execution_count": 53,
   "id": "3bf2a631",
   "metadata": {},
   "outputs": [
    {
     "data": {
      "text/plain": [
       "array([33.104862, 33.064144, 33.016224, ..., 32.69466 , 33.09126 ,\n",
       "       32.964436], dtype=float32)"
      ]
     },
     "execution_count": 53,
     "metadata": {},
     "output_type": "execute_result"
    }
   ],
   "source": [
    "preds"
   ]
  },
  {
   "cell_type": "code",
   "execution_count": 60,
   "id": "2d4d9878",
   "metadata": {},
   "outputs": [
    {
     "name": "stdout",
     "output_type": "stream",
     "text": [
      "3362/3362 [==============================] - 11s 3ms/step\n"
     ]
    }
   ],
   "source": [
    "preds=model.predict(x_test).reshape(-1,)[0]\n",
    "\n",
    "result=pd.DataFrame()\n",
    "result['actual']=y_test.values\n",
    "result['Preds']=preds\n",
    "\n"
   ]
  },
  {
   "cell_type": "code",
   "execution_count": 61,
   "id": "663ab4b1",
   "metadata": {},
   "outputs": [
    {
     "data": {
      "text/html": [
       "<div>\n",
       "<style scoped>\n",
       "    .dataframe tbody tr th:only-of-type {\n",
       "        vertical-align: middle;\n",
       "    }\n",
       "\n",
       "    .dataframe tbody tr th {\n",
       "        vertical-align: top;\n",
       "    }\n",
       "\n",
       "    .dataframe thead th {\n",
       "        text-align: right;\n",
       "    }\n",
       "</style>\n",
       "<table border=\"1\" class=\"dataframe\">\n",
       "  <thead>\n",
       "    <tr style=\"text-align: right;\">\n",
       "      <th></th>\n",
       "      <th>actual</th>\n",
       "      <th>Preds</th>\n",
       "    </tr>\n",
       "  </thead>\n",
       "  <tbody>\n",
       "    <tr>\n",
       "      <th>0</th>\n",
       "      <td>35</td>\n",
       "      <td>33.104862</td>\n",
       "    </tr>\n",
       "    <tr>\n",
       "      <th>1</th>\n",
       "      <td>35</td>\n",
       "      <td>33.104862</td>\n",
       "    </tr>\n",
       "    <tr>\n",
       "      <th>2</th>\n",
       "      <td>35</td>\n",
       "      <td>33.104862</td>\n",
       "    </tr>\n",
       "    <tr>\n",
       "      <th>3</th>\n",
       "      <td>35</td>\n",
       "      <td>33.104862</td>\n",
       "    </tr>\n",
       "    <tr>\n",
       "      <th>4</th>\n",
       "      <td>35</td>\n",
       "      <td>33.104862</td>\n",
       "    </tr>\n",
       "    <tr>\n",
       "      <th>...</th>\n",
       "      <td>...</td>\n",
       "      <td>...</td>\n",
       "    </tr>\n",
       "    <tr>\n",
       "      <th>107569</th>\n",
       "      <td>35</td>\n",
       "      <td>33.104862</td>\n",
       "    </tr>\n",
       "    <tr>\n",
       "      <th>107570</th>\n",
       "      <td>35</td>\n",
       "      <td>33.104862</td>\n",
       "    </tr>\n",
       "    <tr>\n",
       "      <th>107571</th>\n",
       "      <td>35</td>\n",
       "      <td>33.104862</td>\n",
       "    </tr>\n",
       "    <tr>\n",
       "      <th>107572</th>\n",
       "      <td>35</td>\n",
       "      <td>33.104862</td>\n",
       "    </tr>\n",
       "    <tr>\n",
       "      <th>107573</th>\n",
       "      <td>35</td>\n",
       "      <td>33.104862</td>\n",
       "    </tr>\n",
       "  </tbody>\n",
       "</table>\n",
       "<p>107574 rows × 2 columns</p>\n",
       "</div>"
      ],
      "text/plain": [
       "        actual      Preds\n",
       "0           35  33.104862\n",
       "1           35  33.104862\n",
       "2           35  33.104862\n",
       "3           35  33.104862\n",
       "4           35  33.104862\n",
       "...        ...        ...\n",
       "107569      35  33.104862\n",
       "107570      35  33.104862\n",
       "107571      35  33.104862\n",
       "107572      35  33.104862\n",
       "107573      35  33.104862\n",
       "\n",
       "[107574 rows x 2 columns]"
      ]
     },
     "execution_count": 61,
     "metadata": {},
     "output_type": "execute_result"
    }
   ],
   "source": [
    "result"
   ]
  },
  {
   "cell_type": "code",
   "execution_count": null,
   "id": "dba77a6e",
   "metadata": {},
   "outputs": [],
   "source": [
    "# accurracy  of model\n",
    "\n",
    "# acurracy_of_test=model.evaluate(x_test,y_test)\n",
    "# print(f'Test Accuracy: ',acurracy_of_test )\n",
    "\n",
    "\n",
    "# # from sklearn.metrics import r2_score\n",
    "# # r2_score(y_test,preds)"
   ]
  },
  {
   "cell_type": "code",
   "execution_count": null,
   "id": "2845b67f",
   "metadata": {},
   "outputs": [],
   "source": []
  },
  {
   "cell_type": "code",
   "execution_count": null,
   "id": "17e035e6",
   "metadata": {},
   "outputs": [],
   "source": []
  },
  {
   "cell_type": "code",
   "execution_count": null,
   "id": "a5880ea1",
   "metadata": {},
   "outputs": [],
   "source": []
  }
 ],
 "metadata": {
  "kernelspec": {
   "display_name": "Python 3 (ipykernel)",
   "language": "python",
   "name": "python3"
  },
  "language_info": {
   "codemirror_mode": {
    "name": "ipython",
    "version": 3
   },
   "file_extension": ".py",
   "mimetype": "text/x-python",
   "name": "python",
   "nbconvert_exporter": "python",
   "pygments_lexer": "ipython3",
   "version": "3.11.3"
  }
 },
 "nbformat": 4,
 "nbformat_minor": 5
}
